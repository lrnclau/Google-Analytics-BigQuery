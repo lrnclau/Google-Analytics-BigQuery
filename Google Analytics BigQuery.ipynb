{
  "cells": [
    {
      "metadata": {
        "_uuid": "1ab129627b9ad6ee663986e2bde82425607d5c18"
      },
      "cell_type": "markdown",
      "source": "# **Overview **\nWill be answering the following questions utilizing Bigquery SQL Statements <br>\n- What is the total number of transactions generated per device browser in July 2017? <br>\n- The real bounce rate is defined as the percentage of visits with a single pageview. What was the real bounce rate per traffic source? <br>\n- What was the average number of product pageviews for users who made a purchase in July 2017? <br>\n- What was the average number of product pageviews for users who did not make a purchase in July 2017? <br>\n- What was the average total transactions per user that made a purchase in July 2017? <br>\n- What is the average amount of money spent per session in July 2017?"
    },
    {
      "metadata": {
        "_uuid": "42dc2b918bc9409aca7b2e9a7f2332248c89ae0a"
      },
      "cell_type": "markdown",
      "source": "# **Context** <br>\nThe Google Merchandise Store sells Google branded merchandise. The data is typical of what you would see for an ecommerce website."
    },
    {
      "metadata": {
        "_uuid": "34fd57ec93f10b8b2b74c02c2f4eb2e8d346d3cb"
      },
      "cell_type": "markdown",
      "source": "# **Content** <br>\nThe sample dataset contains Google Analytics 360 data from the Google Merchandise Store, a real ecommerce store. The Google Merchandise Store sells Google branded merchandise.It includes the following kinds of information:\n\nTraffic source data: information about where website visitors originate. This includes data about organic traffic, paid search traffic, display traffic, etc. Content data: information about the behavior of users on the site. This includes the URLs of pages that visitors look at, how they interact with content, etc. Transactional data: information about the transactions that occur on the Google Merchandise Store website."
    },
    {
      "metadata": {
        "_uuid": "bdb70ad7600b3e0d5ad84be1d11807e99cd938ec"
      },
      "cell_type": "markdown",
      "source": "# **Notes:** <br>\nWill be using the official Google BigQuery Syntax, but another library exists on Kaggle called BigQueryHelper that simplifies read-only tasks in BigQuery and outputs data into pandas dataframes. \nhttps://www.kaggle.com/sohier/introduction-to-the-bq-helper-package <br>\nWould have to manually convert queries to dataframes otherwise.\n\nGoogle's Documentation for BigQuery:\nhttps://googleapis.github.io/google-cloud-python/latest/bigquery/index.html"
    },
    {
      "metadata": {
        "_uuid": "291eb2a4aeb0b06b8f4a27748e4c9d7acdbe3493"
      },
      "cell_type": "markdown",
      "source": "# **Reading BigQuery Data**"
    },
    {
      "metadata": {
        "_uuid": "8f2839f25d086af736a60e9eeb907d3b93b6e0e5",
        "_cell_guid": "b1076dfc-b9ad-4769-8c92-a6c4dae69d19",
        "trusted": true
      },
      "cell_type": "code",
      "source": "import pandas as pd\nimport numpy as np\nimport matplotlib.pyplot as plt\n%matplotlib inline  \n\n\nfrom google.cloud import bigquery\nimport pandas as pd",
      "execution_count": null,
      "outputs": []
    },
    {
      "metadata": {
        "trusted": true,
        "_uuid": "d3c0581b1387de8bc612c8e1885b2c6f3fc5f5b2"
      },
      "cell_type": "code",
      "source": "# initiate bigquery client\nint_query = bigquery.Client()",
      "execution_count": null,
      "outputs": []
    },
    {
      "metadata": {
        "trusted": true,
        "_uuid": "b6f50feb5a5306365474087144882ace44472799"
      },
      "cell_type": "code",
      "source": "query1 = \"\"\"\nSELECT *\nFROM `bigquery-public-data.google_analytics_sample.ga_sessions_*` ga\nWHERE _TABLE_SUFFIX BETWEEN '20170701' AND '20170731'\nlimit 10\n        \"\"\"\n\ndata = int_query.query(query1).to_dataframe()\ndata.head()",
      "execution_count": null,
      "outputs": []
    },
    {
      "metadata": {
        "_uuid": "7aedcee50a1f682b6ff3dbee9eee6668f4fac10c"
      },
      "cell_type": "markdown",
      "source": "# **Data Observations** <br>\n* The data is using JSON formats for the columns totals, trafficSource,device,geoNetwork,customDimensions, and hits.\n* visitNumber refers to the nth visit somene is visiting the site (i.e visitNumber 7 means it is the seventh time the same person has visited)\n* There seems to be a difference between visitorId and fullVisitorID, userId and clientId\n* The date format is in %Y%m%d and could be converted to a datetime in different format for other analyses \n"
    },
    {
      "metadata": {
        "_uuid": "2378fb09229c411bb81be323f00ff50e1fb0162a"
      },
      "cell_type": "markdown",
      "source": "**Expanding JSON fields in the geonetwork Column** <br>\nThe purpose of expanding this field is to see what other fields exist due to the JSON format which stores more fields within the columns"
    },
    {
      "metadata": {
        "trusted": true,
        "_uuid": "265b2de6a68877da014464cd794aee18a57a345e"
      },
      "cell_type": "code",
      "source": "query1 = \"\"\"\nSELECT\ngeonetwork\nFROM `bigquery-public-data.google_analytics_sample.ga_sessions_*`\nWHERE _TABLE_SUFFIX BETWEEN '20170701' AND '20170731'\nlimit 10\n\n        \"\"\"\n\ndata = int_query.query(query1).to_dataframe()\n\n#Will expand width of the column to see entire value of the field\npd.set_option('display.max_colwidth',-1)\ndata.head()",
      "execution_count": null,
      "outputs": []
    },
    {
      "metadata": {
        "_uuid": "7bb94c44e50f5cf205b41c1c8a2dc463a5cf784d"
      },
      "cell_type": "markdown",
      "source": "The column geonetwork includes the following fields which can be specified in the queries:\n* continent\n* subContinent\n* country\n* region\n* metro\n* city\n* cityid\n* networkDomain\n* latitude\n* longitude\n* networkLocation"
    },
    {
      "metadata": {
        "_uuid": "4a3a55d2cebdfe18155f26a4bc07504e06459bf9"
      },
      "cell_type": "markdown",
      "source": "**Retreiving list of countries**"
    },
    {
      "metadata": {
        "trusted": true,
        "_uuid": "a9f8c948f8aad69cee641be37ff54cea64c05cba"
      },
      "cell_type": "code",
      "source": "query1 = \"\"\"\nSELECT\ndistinct geonetwork.country\nFROM `bigquery-public-data.google_analytics_sample.ga_sessions_*`\nWHERE _TABLE_SUFFIX BETWEEN '20170701' AND '20170731'\norder by 1 desc\n\n        \"\"\"\n\ndata = int_query.query(query1).to_dataframe()\npd.set_option('display.max_colwidth',-1)\ndata.head(15)",
      "execution_count": null,
      "outputs": []
    },
    {
      "metadata": {
        "_uuid": "83ed6155844e9001fb651e77c61f2221dc780f57"
      },
      "cell_type": "markdown",
      "source": "**Expanding JSON fields in the totals Column**"
    },
    {
      "metadata": {
        "trusted": true,
        "_uuid": "afab00c17a634767a269a8207d470eb8712cf6c8"
      },
      "cell_type": "code",
      "source": "query1 = \"\"\"\nSELECT\ntotals\nFROM `bigquery-public-data.google_analytics_sample.ga_sessions_*`\nWHERE _TABLE_SUFFIX BETWEEN '20170701' AND '20170731'\nlimit 10\n\n        \"\"\"\n\ndata = int_query.query(query1).to_dataframe()\n\n#Will expand width of the column to see entire value of the field\npd.set_option('display.max_colwidth',-1)\ndata.head(10)",
      "execution_count": null,
      "outputs": []
    },
    {
      "metadata": {
        "_uuid": "f296e588d6c2ac74f743a139558b290d9f4c592d"
      },
      "cell_type": "markdown",
      "source": "The column geonetwork includes the following fields which can be specified in the queries:\n* visits\n* hits\n* pageviews\n* timeOnSite\n* bounces\n* transactions (refers to the number of transactions)\n* transactionRevenue (refers to the dollar amount of transaction)\n* newVisits\n* screenviews\n* uniqueScreenviews\n* timeOnScreen\n* totalTransactionRevenue\n* sessionQualityDim"
    },
    {
      "metadata": {
        "_uuid": "2e9b1ceff3d7c2e8fa4182e8d165ccee55b1c375"
      },
      "cell_type": "markdown",
      "source": "**Expanding JSON fields in the trafficSource Column**"
    },
    {
      "metadata": {
        "trusted": true,
        "_uuid": "06a1c4fc296e29daf5de403113de6935721fa26a"
      },
      "cell_type": "code",
      "source": "query1 = \"\"\"\nSELECT\ntrafficSource\nFROM `bigquery-public-data.google_analytics_sample.ga_sessions_*`\nWHERE _TABLE_SUFFIX BETWEEN '20170701' AND '20170731'\nlimit 10\n\n        \"\"\"\n\ndata = int_query.query(query1).to_dataframe()\n\n#Will expand width of the column to see entire value of the field\npd.set_option('display.max_colwidth',-1)\ndata.head(3)",
      "execution_count": null,
      "outputs": []
    },
    {
      "metadata": {
        "trusted": true,
        "_uuid": "0c36ff7a52ad0e2fe6140c11bfb1505ae48dff05"
      },
      "cell_type": "code",
      "source": "#Resetting default options\n\n#resets the display options which were modified earlier to view JSON fields\npd.reset_option('^display.')\n\n#resets every option\n#pd.reset_option('all')",
      "execution_count": null,
      "outputs": []
    },
    {
      "metadata": {
        "_uuid": "33c8e342b737fd8b15ce566373d6a704cb51077e"
      },
      "cell_type": "markdown",
      "source": "# **Data Analysis (Questions and Answers)** <br>\n*For the purposes of this excerise I will be fitlering out the data by United States only*"
    },
    {
      "metadata": {
        "_uuid": "48c18174b164b68f170841ca6b2391efec333b4f"
      },
      "cell_type": "markdown",
      "source": "### **What is the total number of transactions generated per device browser in July 2017?**"
    },
    {
      "metadata": {
        "trusted": true,
        "_uuid": "7ca5282ab491ea1c2157a8c3c127923d6722b9c4"
      },
      "cell_type": "code",
      "source": "transactions = \"\"\"\nSELECT\ndevice.browser,\ngeonetwork.country,\nsum(totals.transactions) as total_transactions_value\nFROM `bigquery-public-data.google_analytics_sample.ga_sessions_*`\nWHERE _TABLE_SUFFIX BETWEEN '20170701' AND '20170731'\nAND geonetwork.country = 'United States'\ngroup by 1,2\norder by 3 desc\n\n        \"\"\"\n\ndata = int_query.query(transactions).to_dataframe()\ndata.head(10)\n",
      "execution_count": null,
      "outputs": []
    },
    {
      "metadata": {
        "_uuid": "de157f0f36fa2e5439300da3a25720d251c0646b"
      },
      "cell_type": "markdown",
      "source": "### **The real bounce rate is defined as the percentage of visits with a single pageview. What was the real bounce rate per traffic source?**"
    },
    {
      "metadata": {
        "trusted": true,
        "_uuid": "33c309ca6d1a1bad1f044b72155163c95c673f6b"
      },
      "cell_type": "code",
      "source": "bounce_rate = \"\"\"\nSELECT\ntrafficSource.source,\nsum(case when totals.pageviews = 1 then totals.visits else 0 end) as bounce_visits,\nsum(totals.visits) as total_visits,\nsum(case when totals.pageviews = 1 then totals.visits else 0 end) / sum(totals.visits) as bounce_rate\nFROM `bigquery-public-data.google_analytics_sample.ga_sessions_*`\nWHERE _TABLE_SUFFIX BETWEEN '20170701' AND '20170731'\nAND geonetwork.country = 'United States'\ngroup by 1\norder by 3 desc\n\n        \"\"\"\n\ndata = int_query.query(bounce_rate).to_dataframe()\ndata.head()",
      "execution_count": null,
      "outputs": []
    },
    {
      "metadata": {
        "_uuid": "ccac7298e4678dd67c3e48ed9cacd26e08cbaba1"
      },
      "cell_type": "markdown",
      "source": "### **What was the average number of product pageviews for users who made a purchase in July 2017?**"
    },
    {
      "metadata": {
        "trusted": true,
        "_uuid": "11f0dbdfe60b57ca4a71cdd6d89fb462555e53fa"
      },
      "cell_type": "code",
      "source": "pageview_transactions = \"\"\"\nSELECT\ndistinct totals.transactions,\navg(totals.pageviews) as avg_pageviews\nFROM `bigquery-public-data.google_analytics_sample.ga_sessions_*`\nWHERE _TABLE_SUFFIX BETWEEN '20170701' AND '20170731'\nAND geonetwork.country = 'United States'\nAND totals.transactionRevenue is not null\ngroup by 1\norder by 1 asc\n\n\n        \"\"\"\n\ndata = int_query.query(pageview_transactions).to_dataframe()\ndata.head()",
      "execution_count": null,
      "outputs": []
    },
    {
      "metadata": {
        "_uuid": "8b47252ad8a10ccfe596e5f30989fbfe69abce1a"
      },
      "cell_type": "markdown",
      "source": "### **What was the average number of product pageviews for users who did not make a purchase in July 2017?**"
    },
    {
      "metadata": {
        "trusted": true,
        "_uuid": "7ac24a128416fd8c9d2d766bc3bf19e76f169496"
      },
      "cell_type": "code",
      "source": "pageview_notransactions = \"\"\"\nSELECT\ndistinct totals.transactions,\navg(totals.pageviews) as avg_pageviews\nFROM `bigquery-public-data.google_analytics_sample.ga_sessions_*`\nWHERE _TABLE_SUFFIX BETWEEN '20170701' AND '20170731'\nAND geonetwork.country = 'United States'\nAND totals.transactionRevenue is null\ngroup by 1\norder by 1 asc\n\n\n        \"\"\"\n\ndata = int_query.query(pageview_notransactions).to_dataframe()\ndata.head()",
      "execution_count": null,
      "outputs": []
    },
    {
      "metadata": {
        "_uuid": "82b61d9ffd3140e7622879cd2c5d9f3955847616"
      },
      "cell_type": "markdown",
      "source": "### **What was the average total transactions per user that made a purchase in July 2017?**"
    },
    {
      "metadata": {
        "trusted": true,
        "_uuid": "81fe5002c107a46155d6ebae3da5be460ca1af73"
      },
      "cell_type": "code",
      "source": "avg_transaction = \"\"\"\nSELECT\navg(totals.transactions) as avg_transaction\nFROM `bigquery-public-data.google_analytics_sample.ga_sessions_*`\nWHERE _TABLE_SUFFIX BETWEEN '20170701' AND '20170731'\nAND geonetwork.country = 'United States'\nAND totals.transactionRevenue is not null\nlimit 100\n        \"\"\"\n\ndata = int_query.query(avg_transaction).to_dataframe()\ndata\n",
      "execution_count": null,
      "outputs": []
    },
    {
      "metadata": {
        "_uuid": "817964c098c39612b2f237aa21e42639d19abd1c"
      },
      "cell_type": "markdown",
      "source": "### **What is the average amount of money spent per session in July 2017?**"
    },
    {
      "metadata": {
        "trusted": true,
        "scrolled": true,
        "_uuid": "860c6fef847d552cb2f89ab7ab2df9a7a51f026d"
      },
      "cell_type": "code",
      "source": "avg_transaction = \"\"\"\nSELECT\ndistinct visitNumber,\navg(totals.totalTransactionRevenue) as avg_transaction\nFROM `bigquery-public-data.google_analytics_sample.ga_sessions_*`\nWHERE _TABLE_SUFFIX BETWEEN '20170701' AND '20170731'\nAND geonetwork.country = 'United States'\n#AND totals.totalTransactionRevenue is not null\ngroup by 1\norder by 2 desc\nlimit 100\n        \"\"\"\n\ndata = int_query.query(avg_transaction).to_dataframe()\ndata.head()",
      "execution_count": null,
      "outputs": []
    },
    {
      "metadata": {
        "_uuid": "baa6e26c25b1d53f37cbc89d5227f657b7abd379"
      },
      "cell_type": "markdown",
      "source": "# **Summary** <br>\n* Most customers are buying through the Chrome browser with a total of 948 transactions in the month of July. <br>\n* The bounce rate is over 30% through the most visited sources <br>\n    (bounce rate is defined as the percentage of people who visit the site and leave after viewing the first page) <br>\n* The average number of pageviews a customer goes through before making a purchase ranges from an average of 25-55 pageviews <br>\n* The average number of pageviews a non-paying customer goes through is approximately 4 pageviews <br>\n* The average number of transactions in the month of July was 1 <br>\n\nMost customers that make a transaction do so through the Chrome browser which may be due to the type of customers, web design flaws related to the browser, or marketing related advertising. The bounce rate is relatively high at over 30% through the most trafficed sources, which may indicate a need for a better UX design on the landing page. There is a large discrepancy in pageviews between paying and non-paying customers, which may be an indicator of determing who is likely to make a purchase. This may enable strong targed promotions based on website activity.\n\n### **Possible Further Analysis**\nThe data can broken down further by understanding returning visitors vs new visitors. New visitors are indicators of growth, while analysis on returning vistitors would help understand user behavior on the site. The data can also be broken out by countries in order to better understand purchasing behavior on a country level. \n\n\n"
    }
  ],
  "metadata": {
    "kernelspec": {
      "display_name": "Python 3",
      "language": "python",
      "name": "python3"
    },
    "language_info": {
      "name": "python",
      "version": "3.6.6",
      "mimetype": "text/x-python",
      "codemirror_mode": {
        "name": "ipython",
        "version": 3
      },
      "pygments_lexer": "ipython3",
      "nbconvert_exporter": "python",
      "file_extension": ".py"
    }
  },
  "nbformat": 4,
  "nbformat_minor": 1
}